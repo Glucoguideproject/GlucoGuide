{
 "cells": [
  {
   "cell_type": "markdown",
   "metadata": {},
   "source": [
    "# Here we will see how the diabetes predictor model has trained\n",
    "\n",
    "First we need a dataset to train our model. In this model I have used PIMA Indians Diabetes Dataset from Kaggle."
   ]
  },
  {
   "cell_type": "markdown",
   "metadata": {},
   "source": [
    "Step 1: Setting up Machine Learning (ML) Program\n",
    "```bash\n",
    "diabetes-prediction/\n",
    "│\n",
    "├── data/\n",
    "│   └── diabetes.csv         # Dataset\n",
    "├── model/\n",
    "│   └── diabetes_model.py     # Script to build and train the model\n",
    "├── saved_model/\n",
    "│   └── model.pkl             # The saved model (after training)\n",
    "└── requirements.txt          # Python dependencies\n",
    "\n",
    "```\n",
    "\n",
    "Step 2: Collect the dataset\n",
    "\n",
    "Download the PIMA Indians Diabetes Dataset from [Kaggle](https://www.kaggle.com/datasets/uciml/pima-indians-diabetes-database).\n",
    "\n",
    "Step 3: Install Required Dependencies\n",
    "\n",
    "```bash\n",
    "# requirements.txt\n",
    "pandas==2.1.0\n",
    "numpy==1.25.0\n",
    "scikit-learn==1.3.0\n",
    "joblib==1.2.0\n",
    "```\n",
    "\n",
    "```bash\n",
    "pip install -r requirements.txt\n",
    "```"
   ]
  },
  {
   "cell_type": "markdown",
   "metadata": {},
   "source": [
    "Step 4: Preprocess the Data"
   ]
  },
  {
   "cell_type": "code",
   "execution_count": 2,
   "metadata": {},
   "source": [
    "import pandas as pd\n",
    "from sklearn.model_selection import train_test_split\n",
    "from sklearn.preprocessing import StandardScaler\n",
    "\n",
    "# Load dataset\n",
    "data_path = 'data/diabetes.csv'\n",
    "data = pd.read_csv(data_path)\n",
    "\n",
    "# Select key features and the target variable\n",
    "X = data[['Glucose', 'BloodPressure', 'BMI', 'Age']]\n",
    "y = data['Outcome']  # Target (whether or not the person has diabetes)\n",
    "\n",
    "# Split into train and test sets\n",
    "X_train, X_test, y_train, y_test = train_test_split(X, y, test_size=0.2, random_state=42)\n",
    "\n",
    "# Normalize data\n",
    "scaler = StandardScaler()\n",
    "X_train_scaled = scaler.fit_transform(X_train)\n",
    "X_test_scaled = scaler.transform(X_test)\n",
    "\n",
    "print(\"Data preprocessed successfully.\")"
   ],
   "outputs": []
  },
  {
   "cell_type": "markdown",
   "metadata": {},
   "source": [
    "Step 5: Build and Train the Model"
   ]
  },
  {
   "cell_type": "code",
   "execution_count": 3,
   "metadata": {},
   "source": [
    "from sklearn.linear_model import LogisticRegression\n",
    "from sklearn.metrics import accuracy_score, classification_report\n",
    "\n",
    "# Initialize and train model\n",
    "model = LogisticRegression()\n",
    "model.fit(X_train_scaled, y_train)\n",
    "\n",
    "# Predictions\n",
    "y_pred = model.predict(X_test_scaled)\n",
    "\n",
    "# Evaluate\n",
    "accuracy = accuracy_score(y_test, y_pred)\n",
    "print(f\"Model Accuracy: {accuracy * 100:.2f}%\")\n",
    "\n",
    "print(\"\\nClassification Report:\")\n",
    "print(classification_report(y_test, y_pred))"
   ],
   "outputs": []
  },
  {
   "cell_type": "markdown",
   "metadata": {},
   "source": [
    "Step 6: Save the Model\n",
    "\n"
   ]
  },
  {
   "cell_type": "code",
   "execution_count": 4,
   "metadata": {},
   "source": [
    "import joblib\n",
    "\n",
    "# Save the trained model\n",
    "joblib.dump(model, 'saved_model/model.pkl')\n",
    "\n",
    "# Save the scaler\n",
    "joblib.dump(scaler, 'saved_model/scaler.pkl')\n",
    "\n",
    "print(\"Model and scaler saved.\")"
   ],
   "outputs": []
  },
  {
   "cell_type": "markdown",
   "metadata": {},
   "source": [
    "This will create two files in the saved_model/ directory:\n",
    "\n",
    "    model.pkl: The trained RandomForest model.\n",
    "    scaler.pkl: The scaler used for preprocessing (important for making predictions later)."
   ]
  },
  {
   "cell_type": "markdown",
   "metadata": {},
   "source": [
    "Step 7: Test Loading the Model (Optional)"
   ]
  },
  {
   "cell_type": "code",
   "execution_count": 6,
   "metadata": {},
   "source": [
    "import joblib\n",
    "# Test loading the saved model\n",
    "loaded_model = joblib.load(\"saved_model/model.pkl\")\n",
    "loaded_scaler = joblib.load(\"saved_model/scaler.pkl\")\n",
    "\n",
    "# Test prediction with loaded model and scaler\n",
    "test_input = X_test.iloc[0:1, :]  # Take one test example\n",
    "test_input_scaled = loaded_scaler.transform(test_input)\n",
    "predicted = loaded_model.predict(test_input_scaled)\n",
    "\n",
    "print(f\"Predicted: {predicted}\")\n"
   ],
   "outputs": []
  }
 ],
 "metadata": {
  "kernelspec": {
   "display_name": "env",
   "language": "python",
   "name": "python3"
  },
  "language_info": {
   "codemirror_mode": {
    "name": "ipython",
    "version": 3
   },
   "file_extension": ".py",
   "mimetype": "text/x-python",
   "name": "python",
   "nbconvert_exporter": "python",
   "pygments_lexer": "ipython3",
   "version": "3.12.3"
  }
 },
 "nbformat": 4,
 "nbformat_minor": 2
}
